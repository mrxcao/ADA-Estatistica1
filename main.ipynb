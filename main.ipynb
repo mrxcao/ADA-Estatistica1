{
 "cells": [
  {
   "cell_type": "code",
   "execution_count": 1,
   "id": "ac62d5a6",
   "metadata": {},
   "outputs": [],
   "source": [
    "import os\n",
    "import numpy as np\n",
    "import pandas as pd\n",
    "import matplotlib.pyplot as plt\n",
    "import seaborn as sns"
   ]
  },
  {
   "cell_type": "code",
   "execution_count": 3,
   "id": "a58795ff",
   "metadata": {},
   "outputs": [],
   "source": [
    "import pandas as pd\n",
    "df = pd.read_csv(\"./data.csv\")\n"
   ]
  },
  {
   "cell_type": "markdown",
   "id": "9e21e59b",
   "metadata": {},
   "source": [
    "# Thera Bank\n",
    "\n",
    "  <img src=\"theraBankLogo.png\" alt=\"Logo Thera Bank\" align=\"right\" width=\"180\">\n",
    "\n",
    "Este conjunto de dados refere-se a um banco (Thera Bank) cuja administração pretende explorar formas de converter os seus clientes passivos em clientes de empréstimos pessoais (mantendo-os como depositantes). Uma campanha que o banco realizou no ano passado para clientes passivos mostrou uma taxa de conversão saudável de mais de 9% de sucesso. Isso encorajou o departamento de marketing de varejo a elaborar campanhas com melhor marketing direcionado para aumentar a taxa de sucesso com um orçamento mínimo.\n"
   ]
  },
  {
   "cell_type": "markdown",
   "id": "728c08a8",
   "metadata": {},
   "source": [
    "### Base de dados:\n",
    "\n",
    "ID: customer Id\n",
    "\n",
    "Age:customer's age in completed years\n",
    "\n",
    "Experience:years of professional experience\n",
    "\n",
    "Income<:Annual income of the customer\n",
    "\n",
    "ZIP Code:Address Zip code\n",
    "\n",
    "Family:family size of customer\n",
    "\n",
    "CCAvg:Avg. spending on credit card per month\n",
    "due to all other parameter is annually so i converted it for per year\n",
    "\n",
    "Education :Educational level ( undergraduate= 1 , graduate=2 , advance=3)\n",
    "\n",
    "Education :Educational level ( undergraduate= 1 , graduate=2 , advance=3)\n",
    "\n",
    "Personal Loan: Did this customer accept the personal loan offered in the last campaign?\n",
    "\n",
    "Securities Account:Does the customer have a securities account with the bank?\n",
    "\n",
    "CD Account:Does the customer have a certificate of deposit(CD) account with the bank?\n",
    "\n",
    "Online:Does the customer use internet banking facilities\n",
    "\n",
    "CreditCard: Does the customer use a credit card issued by universalBank?"
   ]
  },
  {
   "cell_type": "code",
   "execution_count": 4,
   "id": "8e0e7a9a",
   "metadata": {},
   "outputs": [
    {
     "name": "stdout",
     "output_type": "stream",
     "text": [
      "<class 'pandas.core.frame.DataFrame'>\n",
      "RangeIndex: 5000 entries, 0 to 4999\n",
      "Data columns (total 14 columns):\n",
      " #   Column              Non-Null Count  Dtype \n",
      "---  ------              --------------  ----- \n",
      " 0   ID                  5000 non-null   int64 \n",
      " 1   Age                 5000 non-null   int64 \n",
      " 2   Experience          5000 non-null   int64 \n",
      " 3   Income              5000 non-null   int64 \n",
      " 4   ZIP Code            5000 non-null   int64 \n",
      " 5   Family              5000 non-null   int64 \n",
      " 6   CCAvg               5000 non-null   object\n",
      " 7   Education           5000 non-null   int64 \n",
      " 8   Mortgage            5000 non-null   int64 \n",
      " 9   Personal Loan       5000 non-null   int64 \n",
      " 10  Securities Account  5000 non-null   int64 \n",
      " 11  CD Account          5000 non-null   int64 \n",
      " 12  Online              5000 non-null   int64 \n",
      " 13  CreditCard          5000 non-null   int64 \n",
      "dtypes: int64(13), object(1)\n",
      "memory usage: 547.0+ KB\n"
     ]
    }
   ],
   "source": [
    "df.info()"
   ]
  },
  {
   "cell_type": "markdown",
   "id": "888c1209",
   "metadata": {},
   "source": [
    "## Perguntas\n",
    "\n",
    "### Perfil demográfico dos clientes\n",
    "- Qual a média e mediana de idade dos clientes?\n",
    "- Existe diferença de renda média entre os diferentes níveis de escolaridade?\n",
    "- Qual a distribuição de tamanho das famílias?\n",
    "  \n",
    "### Relação com o empréstimo pessoal\n",
    "- Qual a porcentagem de clientes que aceitaram o **Personal Loan**?\n",
    "- A taxa de aceitação varia de acordo com o nível de educação?\n",
    "- Existe correlação entre renda anual e aceitação do empréstimo?\n",
    "- Clientes com maior **CCAvg** (gasto no cartão) têm maior probabilidade de aceitar o empréstimo?\n",
    "\n",
    "### Produtos e serviços bancários\n",
    "\n",
    "- Clientes que têm CD Account aceitaram mais empréstimos que os que não têm?\n",
    "- O uso de internet banking (Online) influencia na adesão ao empréstimo?\n",
    "- Quem já tem cartão de crédito do banco também tem maior chance de aceitar empréstimo?\n",
    "\n",
    "### Insights financeiros\n",
    "\n",
    "- Qual é a renda média dos clientes que aceitaram vs. não aceitaram o empréstimo?\n",
    "- Existe diferença significativa de aceitação entre clientes com Securities Account e os que não têm?\n",
    "- Famílias maiores tendem a aceitar mais ou menos o empréstimo?\n",
    "\n",
    "### Análises avançadas / preditivas \n",
    "\n",
    "- Quais variáveis têm maior correlação com a variável alvo Personal Loan?\n",
    "- É possível segmentar os clientes em grupos com alta chance de conversão?\n",
    "- Quais faixas de renda e gastos em cartão são mais representativas entre os que aceitaram?"
   ]
  },
  {
   "cell_type": "code",
   "execution_count": 15,
   "id": "549bc490",
   "metadata": {},
   "outputs": [
    {
     "data": {
      "text/plain": [
       "3130    23\n",
       "3157    23\n",
       "670     23\n",
       "3425    23\n",
       "2962    23\n",
       "        ..\n",
       "2846    67\n",
       "3264    67\n",
       "3331    67\n",
       "1859    67\n",
       "1480    67\n",
       "Name: Age, Length: 5000, dtype: int64"
      ]
     },
     "execution_count": 15,
     "metadata": {},
     "output_type": "execute_result"
    }
   ],
   "source": [
    "idade = df['Age']\n",
    "idade.sort_values()"
   ]
  },
  {
   "cell_type": "code",
   "execution_count": 16,
   "id": "a1f3f0bb",
   "metadata": {},
   "outputs": [
    {
     "data": {
      "text/plain": [
       "np.int64(44)"
      ]
     },
     "execution_count": 16,
     "metadata": {},
     "output_type": "execute_result"
    }
   ],
   "source": [
    "idade.max() - idade.min()  # Variacao"
   ]
  },
  {
   "cell_type": "code",
   "execution_count": 17,
   "id": "2b6f046a",
   "metadata": {},
   "outputs": [
    {
     "data": {
      "text/plain": [
       "np.float64(45.0)"
      ]
     },
     "execution_count": 17,
     "metadata": {},
     "output_type": "execute_result"
    }
   ],
   "source": [
    "idade.median()"
   ]
  }
 ],
 "metadata": {
  "kernelspec": {
   "display_name": "Python 3",
   "language": "python",
   "name": "python3"
  },
  "language_info": {
   "codemirror_mode": {
    "name": "ipython",
    "version": 3
   },
   "file_extension": ".py",
   "mimetype": "text/x-python",
   "name": "python",
   "nbconvert_exporter": "python",
   "pygments_lexer": "ipython3",
   "version": "3.13.3"
  }
 },
 "nbformat": 4,
 "nbformat_minor": 5
}
